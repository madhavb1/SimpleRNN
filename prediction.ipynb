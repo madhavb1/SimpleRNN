{
 "cells": [
  {
   "cell_type": "code",
   "execution_count": 1,
   "metadata": {},
   "outputs": [],
   "source": [
    "import numpy as np\n",
    "import tensorflow as tf\n",
    "from tensorflow.keras.datasets import imdb\n",
    "from tensorflow.keras.preprocessing import sequence\n",
    "from tensorflow.keras.models import Sequential\n",
    "from tensorflow.keras.layers import Embedding, SimpleRNN, Dense\n",
    "from tensorflow.keras.models import load_model"
   ]
  },
  {
   "cell_type": "code",
   "execution_count": 2,
   "metadata": {},
   "outputs": [],
   "source": [
    "## Load the IMDB dataset word index\n",
    "word_index=imdb.get_word_index()\n",
    "reverse_word_index = {value: key for key, value in word_index.items()}\n"
   ]
  },
  {
   "cell_type": "code",
   "execution_count": 3,
   "metadata": {},
   "outputs": [
    {
     "name": "stderr",
     "output_type": "stream",
     "text": [
      "WARNING:absl:Compiled the loaded model, but the compiled metrics have yet to be built. `model.compile_metrics` will be empty until you train or evaluate the model.\n"
     ]
    },
    {
     "data": {
      "text/html": [
       "<pre style=\"white-space:pre;overflow-x:auto;line-height:normal;font-family:Menlo,'DejaVu Sans Mono',consolas,'Courier New',monospace\"><span style=\"font-weight: bold\">Model: \"sequential_1\"</span>\n",
       "</pre>\n"
      ],
      "text/plain": [
       "\u001b[1mModel: \"sequential_1\"\u001b[0m\n"
      ]
     },
     "metadata": {},
     "output_type": "display_data"
    },
    {
     "data": {
      "text/html": [
       "<pre style=\"white-space:pre;overflow-x:auto;line-height:normal;font-family:Menlo,'DejaVu Sans Mono',consolas,'Courier New',monospace\">┏━━━━━━━━━━━━━━━━━━━━━━━━━━━━━━━━━┳━━━━━━━━━━━━━━━━━━━━━━━━┳━━━━━━━━━━━━━━━┓\n",
       "┃<span style=\"font-weight: bold\"> Layer (type)                    </span>┃<span style=\"font-weight: bold\"> Output Shape           </span>┃<span style=\"font-weight: bold\">       Param # </span>┃\n",
       "┡━━━━━━━━━━━━━━━━━━━━━━━━━━━━━━━━━╇━━━━━━━━━━━━━━━━━━━━━━━━╇━━━━━━━━━━━━━━━┩\n",
       "│ embedding_1 (<span style=\"color: #0087ff; text-decoration-color: #0087ff\">Embedding</span>)         │ (<span style=\"color: #00af00; text-decoration-color: #00af00\">32</span>, <span style=\"color: #00af00; text-decoration-color: #00af00\">500</span>, <span style=\"color: #00af00; text-decoration-color: #00af00\">128</span>)         │     <span style=\"color: #00af00; text-decoration-color: #00af00\">1,280,000</span> │\n",
       "├─────────────────────────────────┼────────────────────────┼───────────────┤\n",
       "│ simple_rnn_1 (<span style=\"color: #0087ff; text-decoration-color: #0087ff\">SimpleRNN</span>)        │ (<span style=\"color: #00af00; text-decoration-color: #00af00\">32</span>, <span style=\"color: #00af00; text-decoration-color: #00af00\">128</span>)              │        <span style=\"color: #00af00; text-decoration-color: #00af00\">32,896</span> │\n",
       "├─────────────────────────────────┼────────────────────────┼───────────────┤\n",
       "│ dense_1 (<span style=\"color: #0087ff; text-decoration-color: #0087ff\">Dense</span>)                 │ (<span style=\"color: #00af00; text-decoration-color: #00af00\">32</span>, <span style=\"color: #00af00; text-decoration-color: #00af00\">1</span>)                │           <span style=\"color: #00af00; text-decoration-color: #00af00\">129</span> │\n",
       "└─────────────────────────────────┴────────────────────────┴───────────────┘\n",
       "</pre>\n"
      ],
      "text/plain": [
       "┏━━━━━━━━━━━━━━━━━━━━━━━━━━━━━━━━━┳━━━━━━━━━━━━━━━━━━━━━━━━┳━━━━━━━━━━━━━━━┓\n",
       "┃\u001b[1m \u001b[0m\u001b[1mLayer (type)                   \u001b[0m\u001b[1m \u001b[0m┃\u001b[1m \u001b[0m\u001b[1mOutput Shape          \u001b[0m\u001b[1m \u001b[0m┃\u001b[1m \u001b[0m\u001b[1m      Param #\u001b[0m\u001b[1m \u001b[0m┃\n",
       "┡━━━━━━━━━━━━━━━━━━━━━━━━━━━━━━━━━╇━━━━━━━━━━━━━━━━━━━━━━━━╇━━━━━━━━━━━━━━━┩\n",
       "│ embedding_1 (\u001b[38;5;33mEmbedding\u001b[0m)         │ (\u001b[38;5;34m32\u001b[0m, \u001b[38;5;34m500\u001b[0m, \u001b[38;5;34m128\u001b[0m)         │     \u001b[38;5;34m1,280,000\u001b[0m │\n",
       "├─────────────────────────────────┼────────────────────────┼───────────────┤\n",
       "│ simple_rnn_1 (\u001b[38;5;33mSimpleRNN\u001b[0m)        │ (\u001b[38;5;34m32\u001b[0m, \u001b[38;5;34m128\u001b[0m)              │        \u001b[38;5;34m32,896\u001b[0m │\n",
       "├─────────────────────────────────┼────────────────────────┼───────────────┤\n",
       "│ dense_1 (\u001b[38;5;33mDense\u001b[0m)                 │ (\u001b[38;5;34m32\u001b[0m, \u001b[38;5;34m1\u001b[0m)                │           \u001b[38;5;34m129\u001b[0m │\n",
       "└─────────────────────────────────┴────────────────────────┴───────────────┘\n"
      ]
     },
     "metadata": {},
     "output_type": "display_data"
    },
    {
     "data": {
      "text/html": [
       "<pre style=\"white-space:pre;overflow-x:auto;line-height:normal;font-family:Menlo,'DejaVu Sans Mono',consolas,'Courier New',monospace\"><span style=\"font-weight: bold\"> Total params: </span><span style=\"color: #00af00; text-decoration-color: #00af00\">1,313,027</span> (5.01 MB)\n",
       "</pre>\n"
      ],
      "text/plain": [
       "\u001b[1m Total params: \u001b[0m\u001b[38;5;34m1,313,027\u001b[0m (5.01 MB)\n"
      ]
     },
     "metadata": {},
     "output_type": "display_data"
    },
    {
     "data": {
      "text/html": [
       "<pre style=\"white-space:pre;overflow-x:auto;line-height:normal;font-family:Menlo,'DejaVu Sans Mono',consolas,'Courier New',monospace\"><span style=\"font-weight: bold\"> Trainable params: </span><span style=\"color: #00af00; text-decoration-color: #00af00\">1,313,025</span> (5.01 MB)\n",
       "</pre>\n"
      ],
      "text/plain": [
       "\u001b[1m Trainable params: \u001b[0m\u001b[38;5;34m1,313,025\u001b[0m (5.01 MB)\n"
      ]
     },
     "metadata": {},
     "output_type": "display_data"
    },
    {
     "data": {
      "text/html": [
       "<pre style=\"white-space:pre;overflow-x:auto;line-height:normal;font-family:Menlo,'DejaVu Sans Mono',consolas,'Courier New',monospace\"><span style=\"font-weight: bold\"> Non-trainable params: </span><span style=\"color: #00af00; text-decoration-color: #00af00\">0</span> (0.00 B)\n",
       "</pre>\n"
      ],
      "text/plain": [
       "\u001b[1m Non-trainable params: \u001b[0m\u001b[38;5;34m0\u001b[0m (0.00 B)\n"
      ]
     },
     "metadata": {},
     "output_type": "display_data"
    },
    {
     "data": {
      "text/html": [
       "<pre style=\"white-space:pre;overflow-x:auto;line-height:normal;font-family:Menlo,'DejaVu Sans Mono',consolas,'Courier New',monospace\"><span style=\"font-weight: bold\"> Optimizer params: </span><span style=\"color: #00af00; text-decoration-color: #00af00\">2</span> (12.00 B)\n",
       "</pre>\n"
      ],
      "text/plain": [
       "\u001b[1m Optimizer params: \u001b[0m\u001b[38;5;34m2\u001b[0m (12.00 B)\n"
      ]
     },
     "metadata": {},
     "output_type": "display_data"
    }
   ],
   "source": [
    "## Load the pre-trained model with ReLU activation\n",
    "model = load_model('simple_rnn_imdb.h5')\n",
    "model.summary()"
   ]
  },
  {
   "cell_type": "code",
   "execution_count": 4,
   "metadata": {},
   "outputs": [
    {
     "data": {
      "text/plain": [
       "[array([[ 0.7753997 , -0.7005549 , -0.8440003 , ..., -0.7074234 ,\n",
       "         -0.8415569 ,  0.81498224],\n",
       "        [ 0.03593405,  0.14761007, -0.05122695, ...,  0.08581208,\n",
       "          0.0822573 ,  0.01146852],\n",
       "        [-0.08077672,  0.04414049,  0.05315563, ...,  0.04060936,\n",
       "          0.10026801, -0.07768371],\n",
       "        ...,\n",
       "        [ 0.07736759, -0.1593887 ,  0.11842795, ..., -0.06170395,\n",
       "          0.14334436, -0.00336451],\n",
       "        [-0.09104483,  0.14103217, -0.01255358, ...,  0.21952152,\n",
       "         -0.15841374, -0.18472184],\n",
       "        [ 0.23648079, -0.20558415,  0.07972651, ..., -0.18560283,\n",
       "          0.09712376,  0.09864037]], dtype=float32),\n",
       " array([[-0.04259478,  0.07763906, -0.10355691, ..., -0.04462717,\n",
       "         -0.03324634, -0.15905397],\n",
       "        [ 0.05117536, -0.17098704,  0.05406539, ..., -0.05413762,\n",
       "          0.08536559,  0.0583232 ],\n",
       "        [ 0.10013781,  0.00189847,  0.04069374, ...,  0.18517959,\n",
       "         -0.05788321,  0.09487478],\n",
       "        ...,\n",
       "        [-0.01697459, -0.08294903,  0.13486555, ...,  0.04710192,\n",
       "         -0.02682618, -0.02743681],\n",
       "        [-0.00825885, -0.14023452, -0.09579496, ...,  0.12459086,\n",
       "         -0.06918043,  0.0802209 ],\n",
       "        [ 0.0005702 ,  0.15950069, -0.03668709, ..., -0.08778992,\n",
       "         -0.11061414,  0.01388308]], dtype=float32),\n",
       " array([[ 0.09205773,  0.1678935 , -0.03622741, ...,  0.2062666 ,\n",
       "          0.14740877, -0.10601158],\n",
       "        [ 0.00554676,  0.100925  ,  0.03135319, ..., -0.1196086 ,\n",
       "         -0.00664981, -0.28808725],\n",
       "        [-0.13726845,  0.18193202, -0.16214333, ..., -0.09547134,\n",
       "         -0.03513459,  0.15732278],\n",
       "        ...,\n",
       "        [ 0.09356111,  0.06198824, -0.00696215, ..., -0.11324225,\n",
       "          0.04305525, -0.03894281],\n",
       "        [-0.13048212,  0.11003897,  0.06459361, ..., -0.00558062,\n",
       "          0.10324946,  0.06834484],\n",
       "        [ 0.11605652, -0.08542056, -0.03999396, ...,  0.16308582,\n",
       "          0.05566723,  0.041101  ]], dtype=float32),\n",
       " array([-0.00929693,  0.00881366, -0.03262804, -0.02027867,  0.00373561,\n",
       "        -0.00493176, -0.00829638,  0.0150951 ,  0.02778678,  0.01038698,\n",
       "         0.01265323, -0.01356777,  0.00594127, -0.01750433,  0.02542553,\n",
       "        -0.04710444, -0.05510595,  0.01076104, -0.02348497, -0.02191889,\n",
       "        -0.04395877,  0.01972643,  0.0151778 , -0.02040701, -0.02219379,\n",
       "        -0.01972925,  0.00527225,  0.00881588, -0.01476812,  0.01394339,\n",
       "         0.00076546, -0.00130303,  0.01086603, -0.01902946,  0.01284301,\n",
       "        -0.00027456,  0.01095031, -0.01627409, -0.02783047,  0.01414824,\n",
       "        -0.02579996,  0.01977283,  0.01155979, -0.01576383,  0.12316266,\n",
       "         0.01582055,  0.03218256,  0.03051615, -0.03466189, -0.03058407,\n",
       "        -0.00719113, -0.00160091, -0.02467079,  0.00987119, -0.01937349,\n",
       "         0.02151835,  0.0145132 , -0.01263394,  0.00835396, -0.02475461,\n",
       "         0.03260422,  0.0021205 ,  0.01002662, -0.01670795,  0.0060457 ,\n",
       "        -0.00615948,  0.00779308, -0.01485409,  0.02299341, -0.01419865,\n",
       "        -0.01574932,  0.01810147,  0.01480416, -0.01268694, -0.0049083 ,\n",
       "        -0.02827751,  0.00580663, -0.01546255,  0.00985016,  0.00421026,\n",
       "        -0.01520109, -0.02462126, -0.00552865, -0.00998649, -0.01046424,\n",
       "         0.00226607,  0.00357963, -0.01171611, -0.02308696,  0.0165589 ,\n",
       "        -0.02967692, -0.01170131,  0.02649528, -0.01116961, -0.02998722,\n",
       "        -0.00043837,  0.0314812 ,  0.02150293, -0.03022577,  0.01583783,\n",
       "        -0.01951475, -0.0119417 ,  0.00973971,  0.0245937 , -0.02733357,\n",
       "         0.02305122, -0.01239014, -0.01089788, -0.00173404,  0.01194113,\n",
       "        -0.01515448,  0.02296759,  0.00941125,  0.01500955, -0.0031954 ,\n",
       "         0.01300963, -0.01405559, -0.02897338, -0.03968601, -0.02363532,\n",
       "        -0.01574687,  0.0154276 ,  0.01748052, -0.01557947, -0.00820278,\n",
       "         0.0198486 ,  0.02186635,  0.01609906], dtype=float32),\n",
       " array([[ 1.37266055e-01],\n",
       "        [-1.58958942e-01],\n",
       "        [ 1.19576596e-01],\n",
       "        [-5.74697793e-01],\n",
       "        [ 1.66859418e-01],\n",
       "        [ 1.44992411e-01],\n",
       "        [-9.59656611e-02],\n",
       "        [-5.65721281e-02],\n",
       "        [ 1.17451899e-01],\n",
       "        [ 3.82483035e-01],\n",
       "        [-1.01369530e-01],\n",
       "        [ 8.75257235e-03],\n",
       "        [ 1.27275050e-01],\n",
       "        [ 8.45832657e-03],\n",
       "        [-1.73522756e-01],\n",
       "        [-1.20838858e-01],\n",
       "        [-4.38386589e-01],\n",
       "        [-4.96947616e-02],\n",
       "        [-1.22446561e+00],\n",
       "        [ 9.90811661e-02],\n",
       "        [ 1.08019235e-02],\n",
       "        [-2.15358809e-01],\n",
       "        [ 2.32456177e-01],\n",
       "        [-1.01563349e-01],\n",
       "        [-2.76703425e-02],\n",
       "        [ 2.02430099e-01],\n",
       "        [ 1.63916230e-01],\n",
       "        [-8.97066668e-02],\n",
       "        [ 1.87198699e-01],\n",
       "        [ 8.48865807e-02],\n",
       "        [-1.88566431e-01],\n",
       "        [-3.25960200e-03],\n",
       "        [ 2.10340638e-02],\n",
       "        [-1.94318020e+00],\n",
       "        [ 1.27463877e-01],\n",
       "        [ 2.57531434e-01],\n",
       "        [-2.54423440e-01],\n",
       "        [ 3.12263463e-02],\n",
       "        [-6.80497348e-01],\n",
       "        [ 8.31584260e-02],\n",
       "        [-3.19949210e-01],\n",
       "        [-8.91226232e-02],\n",
       "        [ 1.74926937e-01],\n",
       "        [ 9.94004458e-02],\n",
       "        [-2.09570572e-01],\n",
       "        [-4.86533716e-02],\n",
       "        [-1.09751679e-01],\n",
       "        [ 1.10865057e-01],\n",
       "        [-6.49084449e-02],\n",
       "        [-2.96081781e-01],\n",
       "        [ 1.54450297e-01],\n",
       "        [ 3.48053388e-02],\n",
       "        [-3.01742349e-02],\n",
       "        [-1.70326047e-02],\n",
       "        [ 1.79700598e-01],\n",
       "        [ 5.65045290e-02],\n",
       "        [-2.18636449e-02],\n",
       "        [ 1.50256023e-01],\n",
       "        [-7.20343068e-02],\n",
       "        [ 1.97528601e-01],\n",
       "        [-2.21647218e-01],\n",
       "        [-3.17110240e-01],\n",
       "        [ 9.60293189e-02],\n",
       "        [ 1.33634925e-01],\n",
       "        [ 1.33619443e-01],\n",
       "        [ 2.75044553e-02],\n",
       "        [ 5.76154068e-02],\n",
       "        [-3.57363462e-01],\n",
       "        [-2.08064318e-01],\n",
       "        [-1.67044282e-01],\n",
       "        [-1.25754505e-01],\n",
       "        [-6.80014938e-02],\n",
       "        [ 1.87105492e-01],\n",
       "        [ 1.37383029e-01],\n",
       "        [-3.06545645e-01],\n",
       "        [-1.00216962e-01],\n",
       "        [-9.94215757e-02],\n",
       "        [ 1.41406059e-01],\n",
       "        [-6.69569150e-02],\n",
       "        [-1.57960325e-01],\n",
       "        [ 9.58794355e-02],\n",
       "        [-2.36501649e-01],\n",
       "        [ 8.17570165e-02],\n",
       "        [-1.50840592e+00],\n",
       "        [ 2.28885219e-01],\n",
       "        [ 9.87046026e-03],\n",
       "        [ 1.50639907e-01],\n",
       "        [ 2.47848615e-01],\n",
       "        [ 1.91267237e-01],\n",
       "        [ 1.15739889e-01],\n",
       "        [-3.85653526e-01],\n",
       "        [-1.31198734e-01],\n",
       "        [ 1.40127897e-01],\n",
       "        [-1.26528889e-01],\n",
       "        [ 1.90373331e-01],\n",
       "        [ 5.55525757e-02],\n",
       "        [-1.63304821e-01],\n",
       "        [-2.12857738e-01],\n",
       "        [-1.85017601e-01],\n",
       "        [ 8.10386911e-02],\n",
       "        [-1.19177267e-01],\n",
       "        [ 2.18361303e-01],\n",
       "        [-4.12740618e-01],\n",
       "        [-8.66482332e-02],\n",
       "        [ 4.09367457e-02],\n",
       "        [-1.66799456e-01],\n",
       "        [-1.61136881e-01],\n",
       "        [ 1.87803730e-01],\n",
       "        [ 9.66403186e-02],\n",
       "        [-1.52672291e+00],\n",
       "        [-7.77944457e-03],\n",
       "        [-1.94992855e-01],\n",
       "        [-1.96852043e-01],\n",
       "        [-8.80946219e-02],\n",
       "        [-2.88222858e-04],\n",
       "        [ 1.92390501e-01],\n",
       "        [ 2.60827065e-01],\n",
       "        [ 2.52093114e-02],\n",
       "        [-2.75634438e-01],\n",
       "        [-2.84361005e-01],\n",
       "        [ 1.78023770e-01],\n",
       "        [ 4.64895181e-02],\n",
       "        [-1.41713351e-01],\n",
       "        [-5.97354844e-02],\n",
       "        [-3.03350743e-02],\n",
       "        [-1.31486595e-01],\n",
       "        [ 2.15555966e-01],\n",
       "        [ 2.24189041e-03]], dtype=float32),\n",
       " array([-1.7138871], dtype=float32)]"
      ]
     },
     "execution_count": 4,
     "metadata": {},
     "output_type": "execute_result"
    }
   ],
   "source": [
    "model.get_weights()"
   ]
  },
  {
   "cell_type": "code",
   "execution_count": 5,
   "metadata": {},
   "outputs": [],
   "source": [
    "## Helper Function\n",
    "## Function to decode reviews\n",
    "def decoded_review(encoded_review):\n",
    "    return  ' '.join([reverse_word_index.get(i - 3, '?') for i in encoded_review])\n",
    "\n",
    "## Function to preprocess user input\n",
    "def preprocess_text(text):\n",
    "    words = text.lower().split()\n",
    "    encoded_review = [word_index.get(word,2)+3 for word in words]\n",
    "    padded_review = sequence.pad_sequences([encoded_review], maxlen=500)\n",
    "    return padded_review"
   ]
  },
  {
   "cell_type": "code",
   "execution_count": 6,
   "metadata": {},
   "outputs": [],
   "source": [
    "## Prediction Function\n",
    "def predict_sentiment(review):\n",
    "    preprocessed_input=preprocess_text(review)\n",
    "\n",
    "    prediction=model.predict(preprocessed_input)\n",
    "\n",
    "    Sentiment = 'Positive' if prediction[0][0] > 0.5 else 'Negative'\n",
    "\n",
    "    return Sentiment, prediction[0][0]"
   ]
  },
  {
   "cell_type": "code",
   "execution_count": 7,
   "metadata": {},
   "outputs": [
    {
     "name": "stdout",
     "output_type": "stream",
     "text": [
      "\u001b[1m1/1\u001b[0m \u001b[32m━━━━━━━━━━━━━━━━━━━━\u001b[0m\u001b[37m\u001b[0m \u001b[1m0s\u001b[0m 202ms/step\n",
      "Review: This movie was fantastic! The acting was great and the plot was trilling.\n",
      "sentiment: Positive\n",
      "predict_sentiment score: 0.901322603225708\n"
     ]
    }
   ],
   "source": [
    "## Example review for prediction\n",
    "example_review = \"This movie was fantastic! The acting was great and the plot was trilling.\"\n",
    "\n",
    "sentiment, score = predict_sentiment(example_review)\n",
    "\n",
    "print(f'Review: {example_review}')\n",
    "print(f'sentiment: {sentiment}')\n",
    "print(f'predict_sentiment score: {score}')"
   ]
  }
 ],
 "metadata": {
  "kernelspec": {
   "display_name": "Python 3",
   "language": "python",
   "name": "python3"
  },
  "language_info": {
   "codemirror_mode": {
    "name": "ipython",
    "version": 3
   },
   "file_extension": ".py",
   "mimetype": "text/x-python",
   "name": "python",
   "nbconvert_exporter": "python",
   "pygments_lexer": "ipython3",
   "version": "3.11.11"
  }
 },
 "nbformat": 4,
 "nbformat_minor": 2
}
